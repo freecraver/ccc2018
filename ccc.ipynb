{
 "cells": [
  {
   "cell_type": "code",
   "execution_count": 62,
   "metadata": {},
   "outputs": [],
   "source": [
    "import pandas as pd\n",
    "import numpy as np\n",
    "import codecs\n",
    "import os\n",
    "filename = \"input/lvl2-0.inp\"\n",
    "output_file = \"output.txt\"\n",
    "\n"
   ]
  },
  {
   "cell_type": "code",
   "execution_count": 63,
   "metadata": {},
   "outputs": [
    {
     "name": "stdout",
     "output_type": "stream",
     "text": [
      "[[ 0.  0.  0.  0.  0.  0.]\n",
      " [ 0.  0.  0.  0.  0.  0.]\n",
      " [ 0.  0.  0.  0.  0.  0.]\n",
      " [ 0.  0.  0.  0.  0.  0.]\n",
      " [ 0.  0.  0.  0.  0.  0.]\n",
      " [ 0.  0.  0.  0.  0.  0.]\n",
      " [ 0.  0.  0.  0.  0.  0.]]\n",
      "[[   0.    0.    0.    0.    0.]\n",
      " [   0.    0.    0.    0.    0.]\n",
      " [   0.    0.    0.  698.  639.]\n",
      " [   0.    0.    0.  553.  113.]\n",
      " [   0.    0.    0.    0.    0.]\n",
      " [   0.    0.    0.    0.    0.]\n",
      " [   0.    0.    0.    0.    0.]]\n",
      "[[   0.    0.    0.    0.    0.]\n",
      " [   0.    0.    0.    0.    0.]\n",
      " [   0.    0.   29.    0.    0.]\n",
      " [   0.  478.  395.    0.    0.]\n",
      " [   0.  617.    0.    0.    0.]\n",
      " [   0.    0.    0.    0.    0.]\n",
      " [   0.    0.    0.    0.    0.]]\n",
      "[[   0.  843.    2.    0.    0.]\n",
      " [   0.  250.  602.    0.    0.]\n",
      " [   0.    0.    0.    0.    0.]\n",
      " [   0.    0.    0.    0.    0.]\n",
      " [   0.    0.    0.    0.    0.]]\n"
     ]
    }
   ],
   "source": [
    "images = []\n",
    "line_cnt = 0\n",
    "\n",
    "with codecs.open(filename,\"r\", \"utf-8\") as f:\n",
    "    temp = f.read().splitlines()\n",
    "    stats = temp[0].split(\" \")\n",
    "    line_cnt += 1\n",
    "    for i in range(int(stats[2])):\n",
    "        img_desc = temp[line_cnt].split(\" \")\n",
    "        tmp_img = np.empty((int(img_desc[1]), int(img_desc[2])))\n",
    "        line_cnt+=1\n",
    "        for x in range(int(img_desc[1])):\n",
    "            tmp_img[x] = temp[line_cnt+x].split(\" \")\n",
    "        images.append([img_desc,tmp_img])\n",
    "        line_cnt += int(img_desc[1]) \n",
    "\n",
    "\n",
    "        \n",
    "timestamps = []\n",
    "for img in images:\n",
    "    print((img[1])\n",
    "    if (img[1] > 0).any():\n",
    "        timestamps.append(int(img[0][0]))\n",
    "\n",
    "with codecs.open(output_file,\"w\", \"utf-8\") as f:\n",
    "    for ts in sorted(timestamps):\n",
    "        f.write(str(ts)+os.linesep)"
   ]
  },
  {
   "cell_type": "code",
   "execution_count": null,
   "metadata": {},
   "outputs": [],
   "source": []
  }
 ],
 "metadata": {
  "kernelspec": {
   "display_name": "Python 3",
   "language": "python",
   "name": "python3"
  },
  "language_info": {
   "codemirror_mode": {
    "name": "ipython",
    "version": 3
   },
   "file_extension": ".py",
   "mimetype": "text/x-python",
   "name": "python",
   "nbconvert_exporter": "python",
   "pygments_lexer": "ipython3",
   "version": "3.6.1"
  }
 },
 "nbformat": 4,
 "nbformat_minor": 2
}
